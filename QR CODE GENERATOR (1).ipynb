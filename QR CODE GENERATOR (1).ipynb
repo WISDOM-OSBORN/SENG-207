{
 "cells": [
  {
   "cell_type": "code",
   "execution_count": 1,
   "id": "d158d206",
   "metadata": {},
   "outputs": [],
   "source": [
    "import PySimpleGUI as sg\n",
    "import qrcode\n",
    "\n",
    "layout = [\n",
    "    [sg.Text('Enter a link to generate a QR code:')],\n",
    "    [sg.Input(key='link')],\n",
    "    [sg.Text('Choose a color:'), sg.Combo(values=['black', 'cyan', 'gold'], key='color')],\n",
    "    [sg.Text('Choose a size:'), sg.Slider(range=(1, 10), default_value=5, orientation='h', key='size')],\n",
    "    [sg.Button('Generate'), sg.Button('Save As')],\n",
    "    [sg.Image(key='image')]\n",
    "]\n",
    "\n",
    "window = sg.Window('QR Code Generator', layout)\n",
    "\n",
    "while True:\n",
    "    event, values = window.read()\n",
    "    \n",
    "    if event == sg.WINDOW_CLOSED or event == 'Exit':\n",
    "        break\n",
    "\n",
    "    if event == 'Generate':\n",
    "        link = values['link']\n",
    "        color = values['color']\n",
    "        size = values['size']\n",
    "        qr = qrcode.QRCode(version=1,box_size=size, border=3, error_correction=qrcode.constants.ERROR_CORRECT_L)\n",
    "        qr.add_data(link)\n",
    "        qr.make(fit=True)\n",
    "        img = qr.make_image(fill_color=color, back_color='white')\n",
    "        img.save('qrcode.png')\n",
    "        window['image'].update('qrcode.png')\n",
    "    \n",
    "    # Saving the Qr code\n",
    "    if event == 'Save As':\n",
    "        filename = sg.popup_get_file('Save Qr Code', save_as=True, default_extension='.png')\n",
    "        if filename:\n",
    "            img.save(filename)\n",
    "    \n",
    "        \n",
    "\n",
    "window.close()\n",
    "#written by: Wisdom Osborn Abuyah,BMEN"
   ]
  },
  {
   "cell_type": "code",
   "execution_count": null,
   "id": "890c664e",
   "metadata": {},
   "outputs": [],
   "source": []
  }
 ],
 "metadata": {
  "kernelspec": {
   "display_name": "Python 3 (ipykernel)",
   "language": "python",
   "name": "python3"
  },
  "language_info": {
   "codemirror_mode": {
    "name": "ipython",
    "version": 3
   },
   "file_extension": ".py",
   "mimetype": "text/x-python",
   "name": "python",
   "nbconvert_exporter": "python",
   "pygments_lexer": "ipython3",
   "version": "3.11.1"
  }
 },
 "nbformat": 4,
 "nbformat_minor": 5
}
